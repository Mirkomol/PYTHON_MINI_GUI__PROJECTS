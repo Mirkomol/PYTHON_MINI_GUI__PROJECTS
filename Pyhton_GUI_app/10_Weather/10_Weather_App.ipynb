{
 "cells": [
  {
   "cell_type": "code",
   "execution_count": 2,
   "id": "0e11890d",
   "metadata": {},
   "outputs": [],
   "source": [
    "import PySimpleGUI as sg\n",
    "\n",
    "from bs4 import BeautifulSoup as bs\n",
    "import requests"
   ]
  },
  {
   "cell_type": "code",
   "execution_count": 3,
   "id": "41dd249f",
   "metadata": {},
   "outputs": [],
   "source": [
    "def get_weather_data(location):\n",
    "    USER_AGENT = \"Mozilla/5.0 (Windows NT 10.0; Win64; x64) AppleWebKit/537.36 (KHTML, like Gecko) Chrome/94.0.4606.81 Safari/537.36\"\n",
    "    url =f\"https://www.google.com/search?q=weather+{location.replace(' ','')}\"\n",
    "    session = requests.Session()\n",
    "    session.headers['User-Agent'] = USER_AGENT\n",
    "    html = session.get(url)\n",
    "    \n",
    "    soup = bs(html.text,'html.parser')\n",
    "    name = soup.find('div',attrs = {'id':'wob_loc'}).text\n",
    "    time = soup.find('div',attrs = {'id':'wob_dts'}).text\n",
    "    weather = soup.find('span',attrs = {'id':'wob_dc'}).text\n",
    "    temp = soup.find('span',attrs = {'id':'wob_tm'}).text\n",
    "    return name,time,weather,temp\n",
    "\n",
    "\n",
    "sg.theme('reddit')\n",
    "image_col = sg.Column([[sg.Image(key = '-IMAGE-',background_color = '#FFFFFF')]])\n",
    "\n",
    "info_col = sg.Column([\n",
    "    [sg.Text('', key = '-LOCATION-', font = 'Calibri 30', background_color = '#FF0000', pad = 0, visible = False)],\n",
    "    [sg.Text('', key = '-TIME-', font = 'Calibri 16', background_color = '#000000', text_color = '#FFFFFF', pad = 0, visible = False)],\n",
    "    [sg.Text('', key = '-TEMP-', font = 'Calibri 16', pad = (0,10), background_color = '#FFFFFF', text_color = '#000000', justification = 'center', visible = False)]\n",
    "    ],key = '-RIGHT-',\n",
    "    background_color = '#FFFFFF')\n",
    "\n",
    "layout = [\n",
    "    [sg.Input(expand_x=True,key = 'Input'),sg.Button('Enter',button_color ='#000000',border_width=0)],\n",
    "    [image_col,info_col]\n",
    "]\n",
    "\n",
    "window = sg.Window('Weather_App', layout)\n",
    "\n",
    "while True:\n",
    "    event, values = window.read()\n",
    "    if event == sg.WIN_CLOSED:\n",
    "        break\n",
    "        \n",
    "    if event == 'Enter':\n",
    "        name,time,weather,temp = get_weather_data(values['Input'])\n",
    "        window['-LOCATION-'].update(name, visible=True)\n",
    "        window['-TIME-'].update(time.split(' ')[0],visible=True)\n",
    "        window['-TEMP-'].update(f\"{temp} \\u2103 ({weather}) \",visible=True)\n",
    "        \n",
    "        if weather in ('Sun','Sunny','Clear with periodic clouds'):\n",
    "            window['-IMAGE-'].update('symbols/sun.png')\n",
    "        window['-IMAGE-'].update('symbols/snow.png')\n",
    "        \n",
    "        # part sun\n",
    "        if weather in ('Partly Sunny','Mostly Sunny','Partly cloudy','Mostly cloudy','Cloudy','Overcast'):\n",
    "            window['-IMAGE-'].update('symbols/part sun.png')\n",
    "\n",
    "        if weather in ('Rain','Chance of Rain','Light Rain','Showers','Scattered Showers','Rain and Snow','Hail'):\n",
    "            window['-IMAGE-'].update('symbols/rain.png')\n",
    "\n",
    "            \n",
    "        if weather in ('Scattered Thunderstorms','Chance of Storm','Storm','Thunderstorm','Chance of TStorm'):\n",
    "            window['-IMAGE-'].update('symbols/thunder.png')\n",
    "\n",
    "        if weather in ('Mist','Dust','Fog','Smoke','Haze','Flurries'):\n",
    "            window['-IMAGE-'].update('symbols/fog.png')\n",
    "\n",
    "        if weather in ('Freezing Drizzle','Chance of Snow','Sleet','Snow','Icy','Snow Showers'):\n",
    "            window['-IMAGE-'].update('symbols/snow.png')\n",
    "\n",
    "        \n",
    "\n",
    "        \n",
    "        \n",
    "window.close()"
   ]
  },
  {
   "cell_type": "raw",
   "id": "2ca529c8",
   "metadata": {},
   "source": []
  },
  {
   "cell_type": "code",
   "execution_count": null,
   "id": "d1addb15",
   "metadata": {},
   "outputs": [],
   "source": []
  },
  {
   "cell_type": "code",
   "execution_count": null,
   "id": "fbf666c1",
   "metadata": {},
   "outputs": [],
   "source": []
  }
 ],
 "metadata": {
  "kernelspec": {
   "display_name": "Python 3",
   "language": "python",
   "name": "python3"
  },
  "language_info": {
   "codemirror_mode": {
    "name": "ipython",
    "version": 3
   },
   "file_extension": ".py",
   "mimetype": "text/x-python",
   "name": "python",
   "nbconvert_exporter": "python",
   "pygments_lexer": "ipython3",
   "version": "3.8.7"
  }
 },
 "nbformat": 4,
 "nbformat_minor": 5
}
