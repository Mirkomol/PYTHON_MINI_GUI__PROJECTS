{
 "cells": [
  {
   "cell_type": "code",
   "execution_count": 26,
   "id": "f16f05b7",
   "metadata": {},
   "outputs": [],
   "source": [
    "import PySimpleGUI as sg\n",
    "from pathlib import Path"
   ]
  },
  {
   "cell_type": "code",
   "execution_count": 29,
   "id": "24d46106",
   "metadata": {},
   "outputs": [],
   "source": [
    "smileys = [\n",
    "    'happy',[':)','xD',':D','<3'],\n",
    "    'sad',[',','T_T','):'],\n",
    "    'other',[':3']\n",
    "]\n",
    "\n",
    "smiley_events = smileys[1]+smileys[3]+smileys[5]\n",
    "\n",
    "sg.theme = ('GrayGrayGray')\n",
    "\n",
    "menu_layout=[\n",
    "    ['File',['Open','Save','----','Exit']],\n",
    "    ['Tools',['Word Count']],\n",
    "    ['Add',smileys]\n",
    "]\n",
    "\n",
    "\n",
    "layout = [\n",
    "    [sg.Menu(menu_layout)],\n",
    "    [sg.Text('Untitled',key='Docname')],\n",
    "    [sg.Multiline(no_scrollbar=True,size=(40,30),key ='Textbox')]\n",
    "]\n",
    "\n",
    "window = sg.Window(\"Text Editor\",layout)\n",
    "\n",
    "\n",
    "while True:\n",
    "    event,values = window.read()\n",
    "    if event == sg.WIN_CLOSED:\n",
    "        break\n",
    "        \n",
    "        \n",
    "    if event == 'Open':\n",
    "        file_path = sg.popup_get_file('open',no_window =True)\n",
    "        if file_path:\n",
    "            file = Path(file_path)\n",
    "            window['Textbox'].update(file.read_text()) \n",
    "            window['Docname'].update(file_path.split('/')[-1])\n",
    "        \n",
    "    if event == 'Save':\n",
    "        file_path = sg.popup_get_file('Save as',no_window = True,save_as = True)+ '.txt'\n",
    "        file = Path(file_path)\n",
    "        file.write_text(values['Textbox'])\n",
    "        window['Docname'].update(file_path.split('/')[-1])\n",
    "        \n",
    "    \n",
    "    if event == 'Word Count':\n",
    "        full_text = values['Textbox']\n",
    "        clean_text = full_text.replace('\\n',' ').split(' ')\n",
    "        word_count = len(clean_text)\n",
    "        char_count = len(''.join(clean_text))\n",
    "        sg.popup(f\"words {word_count}\\ncharacters {char_count}\")\n",
    "        \n",
    "    if event in smiley_events:\n",
    "        current_text = values['Textbox']\n",
    "        new_text = current_text + ' ' + event\n",
    "        window['Textbox'].update(new_text)\n",
    "        \n",
    "        \n",
    "                 \n",
    "    \n",
    "        \n",
    "window.close()"
   ]
  },
  {
   "cell_type": "code",
   "execution_count": null,
   "id": "7ba5ac05",
   "metadata": {},
   "outputs": [],
   "source": []
  },
  {
   "cell_type": "code",
   "execution_count": null,
   "id": "faf3bdac",
   "metadata": {},
   "outputs": [],
   "source": []
  }
 ],
 "metadata": {
  "kernelspec": {
   "display_name": "Python 3",
   "language": "python",
   "name": "python3"
  },
  "language_info": {
   "codemirror_mode": {
    "name": "ipython",
    "version": 3
   },
   "file_extension": ".py",
   "mimetype": "text/x-python",
   "name": "python",
   "nbconvert_exporter": "python",
   "pygments_lexer": "ipython3",
   "version": "3.8.7"
  }
 },
 "nbformat": 4,
 "nbformat_minor": 5
}
