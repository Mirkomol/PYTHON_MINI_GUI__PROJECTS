{
 "cells": [
  {
   "cell_type": "code",
   "execution_count": 2,
   "id": "a69e5ed4",
   "metadata": {},
   "outputs": [],
   "source": [
    "import PySimpleGUI as sg\n",
    "import cv2\n"
   ]
  },
  {
   "cell_type": "code",
   "execution_count": 4,
   "id": "0be3c60a",
   "metadata": {},
   "outputs": [],
   "source": [
    "layout = [\n",
    "    [sg.Image(key='Image')],\n",
    "    [sg.Text('People in picture: 0 ', key = 'Text', expand_x =True, justification = 'c')]\n",
    "]\n",
    "\n",
    "\n",
    "window = sg.Window('Face Detector',layout)\n",
    "\n",
    "#get video\n",
    "\n",
    "video = cv2.VideoCapture(0)\n",
    "face_cascade = cv2.CascadeClassifier('haarcascade_frontalface_default.xml')\n",
    "\n",
    "while True:\n",
    "    event,values = window.read(timeout = 0)\n",
    "    if event == sg.WIN_CLOSED:\n",
    "        break\n",
    "        \n",
    "    _, frame = video.read()\n",
    "    gray = cv2.cvtColor(frame,cv2.COLOR_BGR2GRAY)\n",
    "    faces = face_cascade.detectMultiScale(\n",
    "        gray,\n",
    "        scaleFactor = 1.3,\n",
    "        minNeighbors = 7,\n",
    "        minSize = (50,50))\n",
    "        \n",
    "    for (x,y,w,h) in faces:\n",
    "        cv2.rectangle(frame,(x,y),(x+w,y+h),(0,255,0),2)\n",
    "    \n",
    "    imgbytes = cv2.imencode('.png',frame)[1].tobytes()\n",
    "    \n",
    "    window['Image'].update(data = imgbytes)\n",
    "    \n",
    "        \n",
    "    window['Text'].update(f'People in picture: {len(faces)}')\n",
    "window.close()\n",
    "        \n",
    "        "
   ]
  },
  {
   "cell_type": "code",
   "execution_count": null,
   "id": "d1abe623",
   "metadata": {},
   "outputs": [],
   "source": []
  },
  {
   "cell_type": "code",
   "execution_count": null,
   "id": "7e8e045b",
   "metadata": {},
   "outputs": [],
   "source": []
  }
 ],
 "metadata": {
  "kernelspec": {
   "display_name": "Python 3",
   "language": "python",
   "name": "python3"
  },
  "language_info": {
   "codemirror_mode": {
    "name": "ipython",
    "version": 3
   },
   "file_extension": ".py",
   "mimetype": "text/x-python",
   "name": "python",
   "nbconvert_exporter": "python",
   "pygments_lexer": "ipython3",
   "version": "3.8.7"
  }
 },
 "nbformat": 4,
 "nbformat_minor": 5
}
