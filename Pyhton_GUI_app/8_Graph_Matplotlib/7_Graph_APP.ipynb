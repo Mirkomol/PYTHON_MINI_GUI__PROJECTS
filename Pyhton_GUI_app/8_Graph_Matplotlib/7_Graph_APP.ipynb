{
 "cells": [
  {
   "cell_type": "code",
   "execution_count": 1,
   "id": "e11eded8",
   "metadata": {},
   "outputs": [],
   "source": [
    "import PySimpleGUI as sg"
   ]
  },
  {
   "cell_type": "code",
   "execution_count": 16,
   "id": "1030203c",
   "metadata": {},
   "outputs": [],
   "source": [
    "import matplotlib\n",
    "from matplotlib.backends.backend_tkagg import FigureCanvasTkAgg\n",
    "\n",
    "%matplotlib inline"
   ]
  },
  {
   "cell_type": "code",
   "execution_count": 3,
   "id": "35226cc4",
   "metadata": {},
   "outputs": [],
   "source": []
  },
  {
   "cell_type": "code",
   "execution_count": 22,
   "id": "79e04540",
   "metadata": {},
   "outputs": [],
   "source": [
    "def update_figure(data):\n",
    "    axes = fig.axes\n",
    "    x = [i[0] for i in data]\n",
    "    y = [int(i[1]) for i in data]\n",
    "    \n",
    "    axes[0].plot(x,y,'g-')\n",
    "    figure_canvas_agg.draw()\n",
    "    figure_canvas_agg.get_tk_widget().pack()\n",
    "\n",
    "\n",
    "\n",
    "\n",
    "sg.theme=('DarkTeal6')\n",
    "\n",
    "table_content = []\n",
    "layout = [\n",
    "    [sg.Table\n",
    "        (headings = ['Observation','Result'],\n",
    "         values=table_content,\n",
    "         expand_x = True,\n",
    "         hide_vertical_scroll = True,\n",
    "         key = 'Table')],\n",
    "    [sg.Input(key = 'Input',expand_x =True),sg.Button('Submit')],\n",
    "    [sg.Canvas(key='Canvas')]\n",
    "]\n",
    "\n",
    "window = sg.Window('Graph App',layout,finalize=True)\n",
    "\n",
    "fig = matplotlib.figure.Figure(figsize=(5,4))\n",
    "fig.add_subplot(111).plot([],[])\n",
    "\n",
    "figure_canvas_agg = FigureCanvasTkAgg(fig,window['Canvas'].TKCanvas)\n",
    "figure_canvas_agg.draw()\n",
    "figure_canvas_agg.get_tk_widget().pack()\n",
    "\n",
    "while True:\n",
    "    event,values = window.read()\n",
    "    if event == sg.WIN_CLOSED:\n",
    "        break\n",
    "        \n",
    "    if event == 'Submit':\n",
    "        new_value = values['Input']\n",
    "        if new_value.isnumeric():\n",
    "            table_content.append([len(table_content)+1, float(new_value)])\n",
    "            window['Table'].update([[1,10],[2,12],[3,0]])\n",
    "            window['Table'].update()\n",
    "            update_figure(table_content)\n",
    "    \n",
    "window.close()"
   ]
  },
  {
   "cell_type": "markdown",
   "id": "559d2702",
   "metadata": {},
   "source": []
  }
 ],
 "metadata": {
  "kernelspec": {
   "display_name": "Python 3",
   "language": "python",
   "name": "python3"
  },
  "language_info": {
   "codemirror_mode": {
    "name": "ipython",
    "version": 3
   },
   "file_extension": ".py",
   "mimetype": "text/x-python",
   "name": "python",
   "nbconvert_exporter": "python",
   "pygments_lexer": "ipython3",
   "version": "3.8.7"
  }
 },
 "nbformat": 4,
 "nbformat_minor": 5
}
