{
 "cells": [
  {
   "cell_type": "code",
   "execution_count": 4,
   "id": "c43491ee",
   "metadata": {},
   "outputs": [],
   "source": [
    "import PySimpleGUI as sg"
   ]
  },
  {
   "cell_type": "code",
   "execution_count": 57,
   "id": "448504c3",
   "metadata": {},
   "outputs": [
    {
     "ename": "SyntaxError",
     "evalue": "unexpected EOF while parsing (<string>, line 0)",
     "output_type": "error",
     "traceback": [
      "Traceback \u001b[1;36m(most recent call last)\u001b[0m:\n",
      "  File \u001b[0;32m\"c:\\users\\ultrashopuz\\appdata\\local\\programs\\python\\python38\\lib\\site-packages\\IPython\\core\\interactiveshell.py\"\u001b[0m, line \u001b[0;32m3437\u001b[0m, in \u001b[0;35mrun_code\u001b[0m\n    exec(code_obj, self.user_global_ns, self.user_ns)\n",
      "\u001b[1;36m  File \u001b[1;32m\"<ipython-input-57-ecc5a2bd0110>\"\u001b[1;36m, line \u001b[1;32m53\u001b[1;36m, in \u001b[1;35m<module>\u001b[1;36m\u001b[0m\n\u001b[1;33m    result = eval(''.join(full_operation))\u001b[0m\n",
      "\u001b[1;36m  File \u001b[1;32m\"<string>\"\u001b[1;36m, line \u001b[1;32munknown\u001b[0m\n\u001b[1;33m    \u001b[0m\n\u001b[1;37m    ^\u001b[0m\n\u001b[1;31mSyntaxError\u001b[0m\u001b[1;31m:\u001b[0m unexpected EOF while parsing\n"
     ]
    }
   ],
   "source": [
    "def create_window(theme):\n",
    "    \n",
    "    sg.theme(theme)\n",
    "    sg.set_options(font = 'Franklin 15',button_element_size = (6,3))\n",
    "    button_size = (6,3)\n",
    "\n",
    "    layout = [\n",
    "        [sg.Text(\"Theme\",font = 'Franklin 26',justification = 'right',expand_x = True,pad = (10,20),right_click_menu = theme_menu, key ='Text')],\n",
    "        [sg.Button(\"Clear\",expand_x = True),sg.Button(\"Enter\",expand_x = True)],\n",
    "        [sg.Button(7,size=button_size),sg.Button(8,size=button_size),sg.Button(9,size=button_size),sg.Button('*',size=button_size)],\n",
    "        [sg.Button(4,size=button_size),sg.Button(5,size=button_size),sg.Button(6,size=button_size),sg.Button('/',size=button_size)],\n",
    "        [sg.Button(1,size=button_size),sg.Button(2,size=button_size),sg.Button(3,size=button_size),sg.Button('-',size=button_size)],\n",
    "        [sg.Button(0,expand_x = True),sg.Button('.',size=button_size),sg.Button('+',size=button_size)]]\n",
    "    \n",
    "    return sg.Window('Calculator',layout)\n",
    "\n",
    "\n",
    "theme_menu = ['Color_Menu',['Dark', 'Dark2', 'DarkAmber', 'DarkBlack', \n",
    "                            'DarkBlack1', 'DarkBlue', 'DarkBlue1''DarkBlue2', 'DarkBlue3', 'DarkBlue4','LightBlue6','LightBlue7', \n",
    "                            'LightBrown', 'LightBrown1', 'LightBrown10', 'LightBrown11', \n",
    "                            'LightBrown12', 'LightBrown13', 'LightBrown2', \n",
    "                            'LightBrown5', 'LightBrown6', 'LightBrown7',  'LightGray1', 'LightGreen', 'LightGreen1', 'LightGreen10', 'random' ]]\n",
    "\n",
    "window = create_window('dark')\n",
    "\n",
    "current_num = []\n",
    "full_operation = []\n",
    "\n",
    "while True:\n",
    "    event,values = window.read()\n",
    "    if event == sg.WIN_CLOSED:\n",
    "        break\n",
    "        \n",
    "    if event in theme_menu[1]:\n",
    "        window.close()\n",
    "        window = create_window(event)\n",
    "   \n",
    "    if event in ['0','1','2','3','4','5','6','7','8','9','.']:\n",
    "        current_num.append(event)\n",
    "        num_string = ''.join(current_num)\n",
    "        window['Text'].update(num_string)\n",
    "        \n",
    "    if event in ['+','-','/','*']:\n",
    "        full_operation.append(''.join(current_num))\n",
    "        current_num=[]\n",
    "        full_operation.append(event)\n",
    "        window['Text'].update('')\n",
    "        \n",
    "        \n",
    "    if event == 'Enter':\n",
    "        full_operation.append(''.join(current_num))\n",
    "                              \n",
    "        result = eval(''.join(full_operation))\n",
    "        window['Text'].update(result)\n",
    "        full_operation = []\n",
    "                              \n",
    "                              \n",
    "    if event == 'Clear':\n",
    "        current_num = []\n",
    "        full_opeation = []\n",
    "        window['Text'].update('')\n",
    "        \n",
    "        \n",
    "        \n",
    "window.close()"
   ]
  },
  {
   "cell_type": "code",
   "execution_count": null,
   "id": "3a397480",
   "metadata": {},
   "outputs": [],
   "source": []
  }
 ],
 "metadata": {
  "kernelspec": {
   "display_name": "Python 3",
   "language": "python",
   "name": "python3"
  },
  "language_info": {
   "codemirror_mode": {
    "name": "ipython",
    "version": 3
   },
   "file_extension": ".py",
   "mimetype": "text/x-python",
   "name": "python",
   "nbconvert_exporter": "python",
   "pygments_lexer": "ipython3",
   "version": "3.8.7"
  }
 },
 "nbformat": 4,
 "nbformat_minor": 5
}
