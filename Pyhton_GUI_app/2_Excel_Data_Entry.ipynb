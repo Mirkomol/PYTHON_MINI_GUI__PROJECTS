{
 "cells": [
  {
   "cell_type": "code",
   "execution_count": 16,
   "id": "4f46361c",
   "metadata": {},
   "outputs": [],
   "source": [
    "import PySimpleGUI as sg\n",
    "import pandas as pd"
   ]
  },
  {
   "cell_type": "code",
   "execution_count": null,
   "id": "b97295d7",
   "metadata": {},
   "outputs": [],
   "source": [
    "sg.theme('DarkTeal9')\n",
    "\n",
    "EXCEL_FILE = 'Data_Entry.xlsx'\n",
    "\n",
    "df = pd.read_excel(EXCEL_FILE)\n",
    "\n",
    "layout = [\n",
    "    [sg.Text(\"Please fill out the following field: \")],\n",
    "    [sg.Text(\"Name\",size=(15,1)),sg.InputText(key='Name')],\n",
    "     [sg.Text(\"City\",size=(15,1)),sg.InputText(key='City')],\n",
    "    [sg.Text('Favourite Colour',size=(15,1)),sg.Combo(['Green','Blue','Red'],key='Favourite Col')],\n",
    "    [sg.Text('I speak',size=(15,1)),\n",
    "                            sg.Checkbox('German',key='German'),\n",
    "                            sg.Checkbox('Spanish',key='Spanish'),\n",
    "                            sg.Checkbox('English',key='English')],\n",
    "    \n",
    "    [sg.Text('No. of Children',size=(15,1)), sg.Spin([i for i in range(0,16)],\n",
    "                                                   initial_value=0,key='Children')],\n",
    "    [sg.Submit(), sg.Button('Clear'), sg.Exit()]\n",
    "]\n",
    "\n",
    "window = sg.Window(\"Simple data entry from\",layout)\n",
    "\n",
    "\n",
    "def clear_input():\n",
    "    for key in values:\n",
    "        window[key]('')\n",
    "    return None\n",
    "\n",
    "\n",
    "while True:\n",
    "    event,values = window.read()\n",
    "    if event ==  sg.WIN_CLOSED or event == 'Exit':\n",
    "        break\n",
    "    if event == 'Clear':\n",
    "        clear_input()\n",
    "    \n",
    "    if event == 'Submit':\n",
    "        df = df.append(values,ignore_index=True)\n",
    "        df.to_excel(EXCEL_FILE,index =False)\n",
    "        sg.popup('Data Saved!')\n",
    "        clear_input()\n",
    "window.close()"
   ]
  },
  {
   "cell_type": "code",
   "execution_count": null,
   "id": "852a4d5d",
   "metadata": {},
   "outputs": [],
   "source": [
    "\n",
    "\n"
   ]
  },
  {
   "cell_type": "code",
   "execution_count": null,
   "id": "10504352",
   "metadata": {},
   "outputs": [],
   "source": [
    "!pip install pyinstaller"
   ]
  },
  {
   "cell_type": "code",
   "execution_count": null,
   "id": "5396f51c",
   "metadata": {},
   "outputs": [],
   "source": []
  }
 ],
 "metadata": {
  "kernelspec": {
   "display_name": "Python 3",
   "language": "python",
   "name": "python3"
  },
  "language_info": {
   "codemirror_mode": {
    "name": "ipython",
    "version": 3
   },
   "file_extension": ".py",
   "mimetype": "text/x-python",
   "name": "python",
   "nbconvert_exporter": "python",
   "pygments_lexer": "ipython3",
   "version": "3.8.7"
  }
 },
 "nbformat": 4,
 "nbformat_minor": 5
}
