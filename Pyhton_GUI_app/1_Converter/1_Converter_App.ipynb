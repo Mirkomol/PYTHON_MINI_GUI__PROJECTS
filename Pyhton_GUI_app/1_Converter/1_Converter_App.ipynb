{
 "cells": [
  {
   "cell_type": "code",
   "execution_count": 1,
   "id": "0e1ee27b",
   "metadata": {},
   "outputs": [],
   "source": [
    "import PySimpleGUI as sg"
   ]
  },
  {
   "cell_type": "code",
   "execution_count": 6,
   "id": "d7eb7d46",
   "metadata": {},
   "outputs": [],
   "source": [
    "layout = [\n",
    "    [sg.Input(key='input'),\n",
    "    sg.Spin(['km to mile','kg to pound','sec to min'],key='units'),\n",
    "    sg.Button('Convert', key='convert')],\n",
    "    [sg.Text('Output',key='output')]\n",
    "]\n",
    "\n",
    "window = sg.Window('Converter',layout)\n",
    "\n",
    "\n",
    "while True:\n",
    "    event,values=window.read()\n",
    "    \n",
    "    if event == sg.WIN_CLOSED:\n",
    "        break\n",
    "        \n",
    "    if event == 'convert':\n",
    "        input_value = values['input']\n",
    "        if input_value.isnumeric():\n",
    "            if values['units'] == 'km to mile':\n",
    "                output = round(float(input_value) * 0.6214)\n",
    "                output_string = f\"{input_value} km are {output} miles.\"\n",
    "            elif values['units'] == 'kg to pound':\n",
    "                output = round(float(input_value) * 2.20462)\n",
    "                output_string = f\"{input_value} kg are {output} pounds.\"\n",
    "            elif values['units'] == 'sec to min':\n",
    "                output = round(float(input_value) /60.2)\n",
    "                output_string = f\"{input_value} sec are {output} minutes.\"\n",
    "                \n",
    "            window['output'].update(output_string)\n",
    "        else:\n",
    "            window['output'].update(\"Please Enter a number\")\n",
    "            \n",
    "\n",
    "        \n",
    "window.close()"
   ]
  },
  {
   "cell_type": "code",
   "execution_count": null,
   "id": "45d669d1",
   "metadata": {},
   "outputs": [],
   "source": []
  }
 ],
 "metadata": {
  "kernelspec": {
   "display_name": "Python 3",
   "language": "python",
   "name": "python3"
  },
  "language_info": {
   "codemirror_mode": {
    "name": "ipython",
    "version": 3
   },
   "file_extension": ".py",
   "mimetype": "text/x-python",
   "name": "python",
   "nbconvert_exporter": "python",
   "pygments_lexer": "ipython3",
   "version": "3.8.7"
  }
 },
 "nbformat": 4,
 "nbformat_minor": 5
}
