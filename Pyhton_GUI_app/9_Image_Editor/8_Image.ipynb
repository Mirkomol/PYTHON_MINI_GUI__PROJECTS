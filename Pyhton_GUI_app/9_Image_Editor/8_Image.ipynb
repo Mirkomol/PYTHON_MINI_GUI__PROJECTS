{
 "cells": [
  {
   "cell_type": "code",
   "execution_count": 1,
   "id": "5ee99595",
   "metadata": {},
   "outputs": [],
   "source": [
    "import PySimpleGUI as sg\n",
    "from PIL import Image,ImageFilter,ImageOps\n",
    "from io import BytesIO"
   ]
  },
  {
   "cell_type": "code",
   "execution_count": null,
   "id": "ebceb975",
   "metadata": {},
   "outputs": [],
   "source": [
    "def update_image(original,blur,contrast,emboss,contour,flipx,flipy):\n",
    "    global image\n",
    "    image = original.filter(ImageFilter.GaussianBlur(blur))\n",
    "    image = image.filter(ImageFilter.UnsharpMask(contrast))\n",
    "    \n",
    "    if emboss:\n",
    "        image = image.filter(ImageFilter.EMBOSS())\n",
    "    if contour:\n",
    "        image = image.filter(ImageFilter.CONTOUR())\n",
    "        \n",
    "    if flipx:\n",
    "        image = ImageOps.mirror(image)\n",
    "    if flipy:\n",
    "        image = ImageOps.flip(image)\n",
    "        \n",
    "        \n",
    "    bio = BytesIO()\n",
    "    image.save(bio, format = 'PNG')\n",
    "    \n",
    "    window['Image'].update(data = bio.getvalue())\n",
    "\n",
    "image_path = sg.popup_get_file('Open',no_window = True)\n",
    "\n",
    "control_col = sg.Column([\n",
    "    [sg.Frame('Blur',layout =[[sg.Slider(range=(0,10),orientation='h',key='Blur')]])],\n",
    "    [sg.Frame('Contrast',layout =[[sg.Slider(range=(0,10),orientation='h',key='Contrast')]])],\n",
    "    [sg.Checkbox('Emboss ', key = 'Emboss'),sg.Checkbox('Contour', key = 'Contour')],\n",
    "    [sg.Checkbox('Flip x', key = 'Flipx'),sg.Checkbox('Flip y', key = 'Flipy')],\n",
    "    [sg.Button('Save Image', key = 'Save' )]\n",
    "])\n",
    "\n",
    "image_col = sg.Column([[sg.Image(image_path,key='Image',size=(300,300))]])\n",
    "\n",
    "\n",
    "layout = [\n",
    "    [control_col,image_col]\n",
    "]\n",
    "\n",
    "\n",
    "original = Image.open(image_path)\n",
    "window = sg.Window('Image Editor',layout)\n",
    "\n",
    "\n",
    "while True:\n",
    "    \n",
    "    event,values  = window.read(timeout =50)\n",
    "    if event == sg.WIN_CLOSED:\n",
    "        break\n",
    "    \n",
    "    update_image(original,\n",
    "                 values['Blur'],\n",
    "                 values['Contrast'],\n",
    "                 values['Emboss'],\n",
    "                 values['Contour'],\n",
    "                 values['Flipx'],\n",
    "                 values['Flipy'])\n",
    "    \n",
    "    if event == 'Save':\n",
    "        save_path = sg.popup_get_file('Save',save_as =True ,no_window =True ) + '.png'\n",
    "        image.save(save_path,'PNG')\n",
    "\n",
    "        \n",
    "window.close()\n",
    "    "
   ]
  },
  {
   "cell_type": "code",
   "execution_count": null,
   "id": "bee7fa8f",
   "metadata": {},
   "outputs": [],
   "source": [
    "!pip install pillow"
   ]
  },
  {
   "cell_type": "code",
   "execution_count": null,
   "id": "d218969f",
   "metadata": {},
   "outputs": [],
   "source": []
  }
 ],
 "metadata": {
  "kernelspec": {
   "display_name": "Python 3",
   "language": "python",
   "name": "python3"
  },
  "language_info": {
   "codemirror_mode": {
    "name": "ipython",
    "version": 3
   },
   "file_extension": ".py",
   "mimetype": "text/x-python",
   "name": "python",
   "nbconvert_exporter": "python",
   "pygments_lexer": "ipython3",
   "version": "3.8.7"
  }
 },
 "nbformat": 4,
 "nbformat_minor": 5
}
